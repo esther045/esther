{
 "cells": [
  {
   "cell_type": "code",
   "execution_count": 49,
   "metadata": {},
   "outputs": [
    {
     "name": "stdout",
     "output_type": "stream",
     "text": [
      "國文科的總分：349分，平均：69.80分\n",
      "英文科的總分：320分，平均：64.00分\n",
      "數學科的總分：269分，平均：53.80分\n"
     ]
    }
   ],
   "source": [
    "subjects = ['國文', '英文', '數學']\n",
    "chinese_scores =   [88, 56, 77, 39, 89]\n",
    "english_scores =   [56, 55, 76, 99, 34]\n",
    "mathematics_scores=[85, 50, 74, 15, 45]\n",
    "scores = [chinese_scores, english_scores, mathematics_scores]\n",
    "for index, subject_scores in enumerate(scores):\n",
    "    sum = 0\n",
    "    for score in subject_scores:\n",
    "        sum += score\n",
    "    print(\"{}科的總分：{}分，平均：{:.2f}分\".format(subjects[index], sum, sum/len(subject_scores)))"
   ]
  },
  {
   "cell_type": "code",
   "execution_count": null,
   "metadata": {},
   "outputs": [],
   "source": []
  }
 ],
 "metadata": {
  "kernelspec": {
   "display_name": "Python 3",
   "language": "python",
   "name": "python3"
  },
  "language_info": {
   "codemirror_mode": {
    "name": "ipython",
    "version": 3
   },
   "file_extension": ".py",
   "mimetype": "text/x-python",
   "name": "python",
   "nbconvert_exporter": "python",
   "pygments_lexer": "ipython3",
   "version": "3.7.3"
  }
 },
 "nbformat": 4,
 "nbformat_minor": 2
}
